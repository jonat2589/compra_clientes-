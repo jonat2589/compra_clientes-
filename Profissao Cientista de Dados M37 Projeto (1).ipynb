{
 "cells": [
  {
   "cell_type": "markdown",
   "metadata": {
    "id": "JM6dUOEr7Lm_"
   },
   "source": [
    "# **Projeto: Previsão de Intenção de Compra de Clientes em Loja Web**"
   ]
  },
  {
   "cell_type": "markdown",
   "metadata": {
    "id": "v2AZdrbU7Q7c"
   },
   "source": [
    "**Descrição do Projeto**"
   ]
  },
  {
   "cell_type": "markdown",
   "metadata": {
    "id": "XPW7fZ5f7Tkg"
   },
   "source": [
    "Neste projeto, nosso objetivo é criar um sistema inteligente para antecipar a intenção de compra dos clientes em um site de e-commerce. Imagine poder prever quais clientes têm maior probabilidade de realizar compras online, com base em suas características e comportamentos passados. Essa capacidade de prever a intenção de compra não só aprimorará a experiência do cliente, mas também permitirá que a empresa direcione seus esforços de marketing de forma mais eficaz."
   ]
  },
  {
   "cell_type": "markdown",
   "metadata": {
    "id": "hRYMJNCB7ZLp"
   },
   "source": [
    "**Objetivo**\n",
    "\n",
    "Queremos desenvolver um modelo preditivo capaz de analisar os padrões de comportamento dos clientes e identificar sinais que indicam a propensão deles para realizar compras no site da empresa. Para isso, vamos usar uma base de dados que contém informações detalhadas sobre os clientes, incluindo:\n",
    "\n",
    "Dados demográficos (idade, renda, etc.)\n",
    "\n",
    "Informações sobre compras anteriores\n",
    "\n"
   ]
  },
  {
   "cell_type": "markdown",
   "metadata": {
    "id": "8Zrp2W1f83d4"
   },
   "source": [
    "# Base de dados:\n",
    "\n",
    "Year_Birth: Ano de nascimento do cliente.\n",
    "\n",
    "Education: Nível de escolaridade do cliente.\n",
    "\n",
    "Marital_Status: Estado civil do cliente.\n",
    "\n",
    "Income: Renda anual da família do cliente.\n",
    "\n",
    "Kidhome: Número de crianças na casa do cliente.\n",
    "\n",
    "Recency: Número de dias desde a última compra do cliente.\n",
    "\n",
    "Complain: 1 se o cliente reclamou nos últimos 2 anos, 0 caso contrário.\n",
    "\n",
    "MntWines: Valor gasto em vinhos nos últimos 2 anos.\n",
    "\n",
    "MntFruits: Valor gasto em frutas nos últimos 2 anos.\n",
    "\n",
    "MntMeatProducts: Valor gasto em carnes nos últimos 2 anos.\n",
    "\n",
    "MntFishProducts: Valor gasto em peixes nos últimos 2 anos.\n",
    "\n",
    "MntSweetProducts: Valor gasto em doces nos últimos 2 anos.\n",
    "\n",
    "MntGoldProds: Valor gasto em produtos de ouro nos últimos 2 anos.\n",
    "\n",
    "NumDealsPurchases: Número de compras feitas com desconto\n",
    "\n",
    "NumStorePurchases: Número de compras feitas diretamente nas lojas.\n",
    "\n",
    "NumWebVisitsMonth: Número de visitas ao site da empresa no último mês.\n",
    "\n",
    "\n",
    "\n",
    "\n",
    "\n",
    "\n",
    "**WebPurchases: Número de compras feitas pelo site da empresa.**"
   ]
  },
  {
   "cell_type": "markdown",
   "metadata": {
    "id": "WxJcMChG7f36"
   },
   "source": [
    "# ETAPA 1:\n",
    "\n",
    "**Preparação dos Dados**\n",
    "\n",
    "**Exploração e Limpeza:** Analisar e limpar os dados para garantir que estejam prontos para a modelagem.\n",
    "\n",
    "**Análise:** Construa uma storytelling com gráficos, analisando e retirando insights das informações."
   ]
  },
  {
   "cell_type": "code",
   "execution_count": 164,
   "metadata": {},
   "outputs": [],
   "source": [
    "# Importando as bibliotecas necessarias \n",
    "import pandas as pd \n",
    "import matplotlib.pyplot as plt \n",
    "import seaborn as sns \n"
   ]
  },
  {
   "cell_type": "markdown",
   "metadata": {},
   "source": [
    "Após importar as bibliotecas necessárias, carregamos nosso arquivo CSV e o transformamos em um DataFrame, o que nos permite utilizar o pandas para realizar toda a manipulação dos dados."
   ]
  },
  {
   "cell_type": "code",
   "execution_count": 166,
   "metadata": {
    "id": "ra5K9K_u7TNe"
   },
   "outputs": [],
   "source": [
    "# Carregndo a base de dados \n",
    "df = pd.read_csv('marketing_campaign.csv', delimiter=';')"
   ]
  },
  {
   "cell_type": "code",
   "execution_count": 167,
   "metadata": {},
   "outputs": [
    {
     "data": {
      "text/html": [
       "<div>\n",
       "<style scoped>\n",
       "    .dataframe tbody tr th:only-of-type {\n",
       "        vertical-align: middle;\n",
       "    }\n",
       "\n",
       "    .dataframe tbody tr th {\n",
       "        vertical-align: top;\n",
       "    }\n",
       "\n",
       "    .dataframe thead th {\n",
       "        text-align: right;\n",
       "    }\n",
       "</style>\n",
       "<table border=\"1\" class=\"dataframe\">\n",
       "  <thead>\n",
       "    <tr style=\"text-align: right;\">\n",
       "      <th></th>\n",
       "      <th>Year_Birth</th>\n",
       "      <th>Education</th>\n",
       "      <th>Marital_Status</th>\n",
       "      <th>Income</th>\n",
       "      <th>Kidhome</th>\n",
       "      <th>Recency</th>\n",
       "      <th>MntWines</th>\n",
       "      <th>MntFruits</th>\n",
       "      <th>MntMeatProducts</th>\n",
       "      <th>MntFishProducts</th>\n",
       "      <th>MntSweetProducts</th>\n",
       "      <th>MntGoldProds</th>\n",
       "      <th>NumStorePurchases</th>\n",
       "      <th>NumWebVisitsMonth</th>\n",
       "      <th>Complain</th>\n",
       "      <th>WebPurchases</th>\n",
       "    </tr>\n",
       "  </thead>\n",
       "  <tbody>\n",
       "    <tr>\n",
       "      <th>0</th>\n",
       "      <td>1957</td>\n",
       "      <td>Graduation</td>\n",
       "      <td>Single</td>\n",
       "      <td>58138.0</td>\n",
       "      <td>0</td>\n",
       "      <td>58</td>\n",
       "      <td>635</td>\n",
       "      <td>88</td>\n",
       "      <td>546</td>\n",
       "      <td>172</td>\n",
       "      <td>88</td>\n",
       "      <td>88</td>\n",
       "      <td>4</td>\n",
       "      <td>7</td>\n",
       "      <td>0</td>\n",
       "      <td>1</td>\n",
       "    </tr>\n",
       "    <tr>\n",
       "      <th>1</th>\n",
       "      <td>1954</td>\n",
       "      <td>Graduation</td>\n",
       "      <td>Single</td>\n",
       "      <td>46344.0</td>\n",
       "      <td>1</td>\n",
       "      <td>38</td>\n",
       "      <td>11</td>\n",
       "      <td>1</td>\n",
       "      <td>6</td>\n",
       "      <td>2</td>\n",
       "      <td>1</td>\n",
       "      <td>6</td>\n",
       "      <td>2</td>\n",
       "      <td>5</td>\n",
       "      <td>0</td>\n",
       "      <td>0</td>\n",
       "    </tr>\n",
       "    <tr>\n",
       "      <th>2</th>\n",
       "      <td>1965</td>\n",
       "      <td>Graduation</td>\n",
       "      <td>Together</td>\n",
       "      <td>71613.0</td>\n",
       "      <td>0</td>\n",
       "      <td>26</td>\n",
       "      <td>426</td>\n",
       "      <td>49</td>\n",
       "      <td>127</td>\n",
       "      <td>111</td>\n",
       "      <td>21</td>\n",
       "      <td>42</td>\n",
       "      <td>10</td>\n",
       "      <td>4</td>\n",
       "      <td>0</td>\n",
       "      <td>1</td>\n",
       "    </tr>\n",
       "    <tr>\n",
       "      <th>3</th>\n",
       "      <td>1984</td>\n",
       "      <td>Graduation</td>\n",
       "      <td>Together</td>\n",
       "      <td>26646.0</td>\n",
       "      <td>1</td>\n",
       "      <td>26</td>\n",
       "      <td>11</td>\n",
       "      <td>4</td>\n",
       "      <td>20</td>\n",
       "      <td>10</td>\n",
       "      <td>3</td>\n",
       "      <td>5</td>\n",
       "      <td>4</td>\n",
       "      <td>6</td>\n",
       "      <td>0</td>\n",
       "      <td>0</td>\n",
       "    </tr>\n",
       "    <tr>\n",
       "      <th>4</th>\n",
       "      <td>1981</td>\n",
       "      <td>PhD</td>\n",
       "      <td>Married</td>\n",
       "      <td>58293.0</td>\n",
       "      <td>1</td>\n",
       "      <td>94</td>\n",
       "      <td>173</td>\n",
       "      <td>43</td>\n",
       "      <td>118</td>\n",
       "      <td>46</td>\n",
       "      <td>27</td>\n",
       "      <td>15</td>\n",
       "      <td>6</td>\n",
       "      <td>5</td>\n",
       "      <td>0</td>\n",
       "      <td>1</td>\n",
       "    </tr>\n",
       "  </tbody>\n",
       "</table>\n",
       "</div>"
      ],
      "text/plain": [
       "   Year_Birth   Education Marital_Status   Income  Kidhome  Recency  MntWines  \\\n",
       "0        1957  Graduation         Single  58138.0        0       58       635   \n",
       "1        1954  Graduation         Single  46344.0        1       38        11   \n",
       "2        1965  Graduation       Together  71613.0        0       26       426   \n",
       "3        1984  Graduation       Together  26646.0        1       26        11   \n",
       "4        1981         PhD        Married  58293.0        1       94       173   \n",
       "\n",
       "   MntFruits  MntMeatProducts  MntFishProducts  MntSweetProducts  \\\n",
       "0         88              546              172                88   \n",
       "1          1                6                2                 1   \n",
       "2         49              127              111                21   \n",
       "3          4               20               10                 3   \n",
       "4         43              118               46                27   \n",
       "\n",
       "   MntGoldProds  NumStorePurchases  NumWebVisitsMonth  Complain  WebPurchases  \n",
       "0            88                  4                  7         0             1  \n",
       "1             6                  2                  5         0             0  \n",
       "2            42                 10                  4         0             1  \n",
       "3             5                  4                  6         0             0  \n",
       "4            15                  6                  5         0             1  "
      ]
     },
     "execution_count": 167,
     "metadata": {},
     "output_type": "execute_result"
    }
   ],
   "source": [
    "# Verificando as primeiras linhas do DataFrame \n",
    "df.head()"
   ]
  },
  {
   "cell_type": "markdown",
   "metadata": {},
   "source": [
    "### Análise Inicial\n",
    "Podemos observar que a base de dados é composta majoritariamente por colunas numéricas, o que facilita a manipulação e o uso em modelos de machine learning. Temos apenas algumas colunas categóricas, como Education e Marital_Status, que poderão ser transformadas posteriormente para variáveis numéricas através de técnicas como label encoding ou one-hot encoding."
   ]
  },
  {
   "cell_type": "code",
   "execution_count": 169,
   "metadata": {},
   "outputs": [
    {
     "data": {
      "text/plain": [
       "array(['Single', 'Together', 'Married', 'Divorced', 'Widow', 'Alone',\n",
       "       'Absurd', 'YOLO'], dtype=object)"
      ]
     },
     "execution_count": 169,
     "metadata": {},
     "output_type": "execute_result"
    }
   ],
   "source": [
    "# Visualizando os valores unicos nas colunas categoricas\n",
    "df['Education'].unique()\n",
    "df['Marital_Status'].unique()"
   ]
  },
  {
   "cell_type": "code",
   "execution_count": 170,
   "metadata": {},
   "outputs": [
    {
     "data": {
      "text/plain": [
       "Marital_Status\n",
       "Alone     3\n",
       "Absurd    2\n",
       "YOLO      2\n",
       "Name: count, dtype: int64"
      ]
     },
     "execution_count": 170,
     "metadata": {},
     "output_type": "execute_result"
    }
   ],
   "source": [
    "# Verifica quantas vezes os valores inconsistentes aparecem ANTES da substituição\n",
    "valores_inconsistentes = ['Alone', 'Absurd', 'YOLO']\n",
    "df['Marital_Status'].value_counts().loc[valores_inconsistentes]\n"
   ]
  },
  {
   "cell_type": "markdown",
   "metadata": {},
   "source": []
  },
  {
   "cell_type": "code",
   "execution_count": 228,
   "metadata": {},
   "outputs": [
    {
     "data": {
      "text/plain": [
       "Marital_Status\n",
       "Married     864\n",
       "Together    580\n",
       "Single      487\n",
       "Widow        77\n",
       "Name: count, dtype: int64"
      ]
     },
     "execution_count": 228,
     "metadata": {},
     "output_type": "execute_result"
    }
   ],
   "source": [
    "# Criando um dicionário de mapeamento específico para esses valores\n",
    "marital_map = {\n",
    "    'Single': 'Single',\n",
    "    'Together': 'Together',\n",
    "    'Married': 'Married',\n",
    "    'Widow': 'Widow',\n",
    "    'Alone': 'Single',\n",
    "    'Absurd': 'Single',\n",
    "    'YOLO': 'Single'\n",
    "}\n",
    "\n",
    "\n",
    "# Aplicando o mapeamento\n",
    "df['Marital_Status'] = df['Marital_Status'].map(marital_map).fillna(df['Marital_Status'])\n",
    "df['Marital_Status'].value_counts()"
   ]
  },
  {
   "cell_type": "markdown",
   "metadata": {},
   "source": [
    "### Tratamento dos valores inconsistentes na coluna Marital_Status\n",
    "Durante a análise inicial dos valores únicos da coluna Marital_Status, identificamos algumas categorias inconsistentes ou fora do padrão: 'Alone', 'Absurd' e 'YOLO'.\n",
    "\n",
    "Essas categorias representam um número pequeno de registros (3 para 'Alone' e 2 para cada uma das outras duas) e não correspondem a status civis convencionais.\n",
    "\n",
    "Para manter a consistência dos dados e facilitar o treinamento do modelo, optamos por agrupar essas categorias como 'Single' (solteiro), que é a categoria mais próxima em significado para 'Alone', e uma boa aproximação para as outras duas.\n",
    "\n",
    "Esse procedimento ajuda a:\n",
    "\n",
    "- Reduzir a complexidade das categorias da variável;\n",
    "\n",
    "- Evitar possíveis ruídos que valores incomuns podem causar no modelo;\n",
    "\n",
    "- Garantir que todos os registros sejam classificados em categorias válidas."
   ]
  },
  {
   "cell_type": "code",
   "execution_count": 231,
   "metadata": {},
   "outputs": [
    {
     "name": "stdout",
     "output_type": "stream",
     "text": [
      "<class 'pandas.core.frame.DataFrame'>\n",
      "RangeIndex: 2240 entries, 0 to 2239\n",
      "Data columns (total 16 columns):\n",
      " #   Column             Non-Null Count  Dtype  \n",
      "---  ------             --------------  -----  \n",
      " 0   Year_Birth         2240 non-null   int64  \n",
      " 1   Education          2240 non-null   object \n",
      " 2   Marital_Status     2008 non-null   object \n",
      " 3   Income             2240 non-null   float64\n",
      " 4   Kidhome            2240 non-null   int64  \n",
      " 5   Recency            2240 non-null   int64  \n",
      " 6   MntWines           2240 non-null   int64  \n",
      " 7   MntFruits          2240 non-null   int64  \n",
      " 8   MntMeatProducts    2240 non-null   int64  \n",
      " 9   MntFishProducts    2240 non-null   int64  \n",
      " 10  MntSweetProducts   2240 non-null   int64  \n",
      " 11  MntGoldProds       2240 non-null   int64  \n",
      " 12  NumStorePurchases  2240 non-null   int64  \n",
      " 13  NumWebVisitsMonth  2240 non-null   int64  \n",
      " 14  Complain           2240 non-null   int64  \n",
      " 15  WebPurchases       2240 non-null   int64  \n",
      "dtypes: float64(1), int64(13), object(2)\n",
      "memory usage: 280.1+ KB\n"
     ]
    }
   ],
   "source": [
    "#  Verificando as Informações Básicas do DataFrame\n",
    "df.info()"
   ]
  },
  {
   "cell_type": "markdown",
   "metadata": {},
   "source": [
    "### Análise\n",
    "Aqui confirmamos que o dataset possui 2240 registros e que a maioria das colunas está completa. As únicas colunas categóricas são Education e Marital_Status, enquanto as demais são numéricas.\n",
    "\n",
    "A coluna Year_Birth, embora esteja como inteiro, pode ser convertida em idade ou em uma data para gerar novos atributos úteis, como faixa etária, idade média por perfil, entre outros."
   ]
  },
  {
   "cell_type": "code",
   "execution_count": 234,
   "metadata": {},
   "outputs": [
    {
     "data": {
      "text/plain": [
       "Year_Birth             0\n",
       "Education              0\n",
       "Marital_Status       232\n",
       "Income                 0\n",
       "Kidhome                0\n",
       "Recency                0\n",
       "MntWines               0\n",
       "MntFruits              0\n",
       "MntMeatProducts        0\n",
       "MntFishProducts        0\n",
       "MntSweetProducts       0\n",
       "MntGoldProds           0\n",
       "NumStorePurchases      0\n",
       "NumWebVisitsMonth      0\n",
       "Complain               0\n",
       "WebPurchases           0\n",
       "dtype: int64"
      ]
     },
     "execution_count": 234,
     "metadata": {},
     "output_type": "execute_result"
    }
   ],
   "source": [
    "# Verificando valores nulos\n",
    "df.isnull().sum()"
   ]
  },
  {
   "cell_type": "markdown",
   "metadata": {},
   "source": [
    "### Análise\n",
    "Identificamos 24 valores nulos apenas na coluna Income (renda anual). Como eles representam uma quantidade muito pequena de registros em relação ao total do DataFrame, uma boa prática é substituir esses valores pela média da coluna, garantindo a integridade do conjunto de dados sem perda de informação."
   ]
  },
  {
   "cell_type": "code",
   "execution_count": 178,
   "metadata": {},
   "outputs": [
    {
     "name": "stderr",
     "output_type": "stream",
     "text": [
      "C:\\Users\\Jonathan\\AppData\\Local\\Temp\\ipykernel_21012\\1562807081.py:1: FutureWarning: A value is trying to be set on a copy of a DataFrame or Series through chained assignment using an inplace method.\n",
      "The behavior will change in pandas 3.0. This inplace method will never work because the intermediate object on which we are setting values always behaves as a copy.\n",
      "\n",
      "For example, when doing 'df[col].method(value, inplace=True)', try using 'df.method({col: value}, inplace=True)' or df[col] = df[col].method(value) instead, to perform the operation inplace on the original object.\n",
      "\n",
      "\n",
      "  df['Income'].fillna(df['Income'].mean(), inplace=True)\n"
     ]
    },
    {
     "data": {
      "text/plain": [
       "Year_Birth             0\n",
       "Education              0\n",
       "Marital_Status       232\n",
       "Income                 0\n",
       "Kidhome                0\n",
       "Recency                0\n",
       "MntWines               0\n",
       "MntFruits              0\n",
       "MntMeatProducts        0\n",
       "MntFishProducts        0\n",
       "MntSweetProducts       0\n",
       "MntGoldProds           0\n",
       "NumStorePurchases      0\n",
       "NumWebVisitsMonth      0\n",
       "Complain               0\n",
       "WebPurchases           0\n",
       "dtype: int64"
      ]
     },
     "execution_count": 178,
     "metadata": {},
     "output_type": "execute_result"
    }
   ],
   "source": [
    "df['Income'].fillna(df['Income'].mean(), inplace=True)\n",
    "\n",
    "df.isnull().sum()"
   ]
  },
  {
   "cell_type": "code",
   "execution_count": 179,
   "metadata": {},
   "outputs": [
    {
     "data": {
      "text/html": [
       "<div>\n",
       "<style scoped>\n",
       "    .dataframe tbody tr th:only-of-type {\n",
       "        vertical-align: middle;\n",
       "    }\n",
       "\n",
       "    .dataframe tbody tr th {\n",
       "        vertical-align: top;\n",
       "    }\n",
       "\n",
       "    .dataframe thead th {\n",
       "        text-align: right;\n",
       "    }\n",
       "</style>\n",
       "<table border=\"1\" class=\"dataframe\">\n",
       "  <thead>\n",
       "    <tr style=\"text-align: right;\">\n",
       "      <th></th>\n",
       "      <th>Year_Birth</th>\n",
       "      <th>Income</th>\n",
       "      <th>Kidhome</th>\n",
       "      <th>Recency</th>\n",
       "      <th>MntWines</th>\n",
       "      <th>MntFruits</th>\n",
       "      <th>MntMeatProducts</th>\n",
       "      <th>MntFishProducts</th>\n",
       "      <th>MntSweetProducts</th>\n",
       "      <th>MntGoldProds</th>\n",
       "      <th>NumStorePurchases</th>\n",
       "      <th>NumWebVisitsMonth</th>\n",
       "      <th>Complain</th>\n",
       "      <th>WebPurchases</th>\n",
       "    </tr>\n",
       "  </thead>\n",
       "  <tbody>\n",
       "    <tr>\n",
       "      <th>count</th>\n",
       "      <td>2240.000000</td>\n",
       "      <td>2240.000000</td>\n",
       "      <td>2240.000000</td>\n",
       "      <td>2240.000000</td>\n",
       "      <td>2240.000000</td>\n",
       "      <td>2240.000000</td>\n",
       "      <td>2240.000000</td>\n",
       "      <td>2240.000000</td>\n",
       "      <td>2240.000000</td>\n",
       "      <td>2240.000000</td>\n",
       "      <td>2240.000000</td>\n",
       "      <td>2240.000000</td>\n",
       "      <td>2240.000000</td>\n",
       "      <td>2240.000000</td>\n",
       "    </tr>\n",
       "    <tr>\n",
       "      <th>mean</th>\n",
       "      <td>1968.805804</td>\n",
       "      <td>52247.251354</td>\n",
       "      <td>0.444196</td>\n",
       "      <td>49.109375</td>\n",
       "      <td>303.935714</td>\n",
       "      <td>26.302232</td>\n",
       "      <td>166.950000</td>\n",
       "      <td>37.525446</td>\n",
       "      <td>27.062946</td>\n",
       "      <td>44.021875</td>\n",
       "      <td>5.790179</td>\n",
       "      <td>5.316518</td>\n",
       "      <td>0.009375</td>\n",
       "      <td>0.503571</td>\n",
       "    </tr>\n",
       "    <tr>\n",
       "      <th>std</th>\n",
       "      <td>11.984069</td>\n",
       "      <td>25037.797168</td>\n",
       "      <td>0.538398</td>\n",
       "      <td>28.962453</td>\n",
       "      <td>336.597393</td>\n",
       "      <td>39.773434</td>\n",
       "      <td>225.715373</td>\n",
       "      <td>54.628979</td>\n",
       "      <td>41.280498</td>\n",
       "      <td>52.167439</td>\n",
       "      <td>3.250958</td>\n",
       "      <td>2.426645</td>\n",
       "      <td>0.096391</td>\n",
       "      <td>0.500099</td>\n",
       "    </tr>\n",
       "    <tr>\n",
       "      <th>min</th>\n",
       "      <td>1893.000000</td>\n",
       "      <td>1730.000000</td>\n",
       "      <td>0.000000</td>\n",
       "      <td>0.000000</td>\n",
       "      <td>0.000000</td>\n",
       "      <td>0.000000</td>\n",
       "      <td>0.000000</td>\n",
       "      <td>0.000000</td>\n",
       "      <td>0.000000</td>\n",
       "      <td>0.000000</td>\n",
       "      <td>0.000000</td>\n",
       "      <td>0.000000</td>\n",
       "      <td>0.000000</td>\n",
       "      <td>0.000000</td>\n",
       "    </tr>\n",
       "    <tr>\n",
       "      <th>25%</th>\n",
       "      <td>1959.000000</td>\n",
       "      <td>35538.750000</td>\n",
       "      <td>0.000000</td>\n",
       "      <td>24.000000</td>\n",
       "      <td>23.750000</td>\n",
       "      <td>1.000000</td>\n",
       "      <td>16.000000</td>\n",
       "      <td>3.000000</td>\n",
       "      <td>1.000000</td>\n",
       "      <td>9.000000</td>\n",
       "      <td>3.000000</td>\n",
       "      <td>3.000000</td>\n",
       "      <td>0.000000</td>\n",
       "      <td>0.000000</td>\n",
       "    </tr>\n",
       "    <tr>\n",
       "      <th>50%</th>\n",
       "      <td>1970.000000</td>\n",
       "      <td>51741.500000</td>\n",
       "      <td>0.000000</td>\n",
       "      <td>49.000000</td>\n",
       "      <td>173.500000</td>\n",
       "      <td>8.000000</td>\n",
       "      <td>67.000000</td>\n",
       "      <td>12.000000</td>\n",
       "      <td>8.000000</td>\n",
       "      <td>24.000000</td>\n",
       "      <td>5.000000</td>\n",
       "      <td>6.000000</td>\n",
       "      <td>0.000000</td>\n",
       "      <td>1.000000</td>\n",
       "    </tr>\n",
       "    <tr>\n",
       "      <th>75%</th>\n",
       "      <td>1977.000000</td>\n",
       "      <td>68289.750000</td>\n",
       "      <td>1.000000</td>\n",
       "      <td>74.000000</td>\n",
       "      <td>504.250000</td>\n",
       "      <td>33.000000</td>\n",
       "      <td>232.000000</td>\n",
       "      <td>50.000000</td>\n",
       "      <td>33.000000</td>\n",
       "      <td>56.000000</td>\n",
       "      <td>8.000000</td>\n",
       "      <td>7.000000</td>\n",
       "      <td>0.000000</td>\n",
       "      <td>1.000000</td>\n",
       "    </tr>\n",
       "    <tr>\n",
       "      <th>max</th>\n",
       "      <td>1996.000000</td>\n",
       "      <td>666666.000000</td>\n",
       "      <td>2.000000</td>\n",
       "      <td>99.000000</td>\n",
       "      <td>1493.000000</td>\n",
       "      <td>199.000000</td>\n",
       "      <td>1725.000000</td>\n",
       "      <td>259.000000</td>\n",
       "      <td>263.000000</td>\n",
       "      <td>362.000000</td>\n",
       "      <td>13.000000</td>\n",
       "      <td>20.000000</td>\n",
       "      <td>1.000000</td>\n",
       "      <td>1.000000</td>\n",
       "    </tr>\n",
       "  </tbody>\n",
       "</table>\n",
       "</div>"
      ],
      "text/plain": [
       "        Year_Birth         Income      Kidhome      Recency     MntWines  \\\n",
       "count  2240.000000    2240.000000  2240.000000  2240.000000  2240.000000   \n",
       "mean   1968.805804   52247.251354     0.444196    49.109375   303.935714   \n",
       "std      11.984069   25037.797168     0.538398    28.962453   336.597393   \n",
       "min    1893.000000    1730.000000     0.000000     0.000000     0.000000   \n",
       "25%    1959.000000   35538.750000     0.000000    24.000000    23.750000   \n",
       "50%    1970.000000   51741.500000     0.000000    49.000000   173.500000   \n",
       "75%    1977.000000   68289.750000     1.000000    74.000000   504.250000   \n",
       "max    1996.000000  666666.000000     2.000000    99.000000  1493.000000   \n",
       "\n",
       "         MntFruits  MntMeatProducts  MntFishProducts  MntSweetProducts  \\\n",
       "count  2240.000000      2240.000000      2240.000000       2240.000000   \n",
       "mean     26.302232       166.950000        37.525446         27.062946   \n",
       "std      39.773434       225.715373        54.628979         41.280498   \n",
       "min       0.000000         0.000000         0.000000          0.000000   \n",
       "25%       1.000000        16.000000         3.000000          1.000000   \n",
       "50%       8.000000        67.000000        12.000000          8.000000   \n",
       "75%      33.000000       232.000000        50.000000         33.000000   \n",
       "max     199.000000      1725.000000       259.000000        263.000000   \n",
       "\n",
       "       MntGoldProds  NumStorePurchases  NumWebVisitsMonth     Complain  \\\n",
       "count   2240.000000        2240.000000        2240.000000  2240.000000   \n",
       "mean      44.021875           5.790179           5.316518     0.009375   \n",
       "std       52.167439           3.250958           2.426645     0.096391   \n",
       "min        0.000000           0.000000           0.000000     0.000000   \n",
       "25%        9.000000           3.000000           3.000000     0.000000   \n",
       "50%       24.000000           5.000000           6.000000     0.000000   \n",
       "75%       56.000000           8.000000           7.000000     0.000000   \n",
       "max      362.000000          13.000000          20.000000     1.000000   \n",
       "\n",
       "       WebPurchases  \n",
       "count   2240.000000  \n",
       "mean       0.503571  \n",
       "std        0.500099  \n",
       "min        0.000000  \n",
       "25%        0.000000  \n",
       "50%        1.000000  \n",
       "75%        1.000000  \n",
       "max        1.000000  "
      ]
     },
     "execution_count": 179,
     "metadata": {},
     "output_type": "execute_result"
    }
   ],
   "source": [
    "# Visualizar estátisticas básica das colunas númericas \n",
    "df.describe()"
   ]
  },
  {
   "cell_type": "markdown",
   "metadata": {},
   "source": [
    "### Análise \n",
    "\n",
    "com a descrição estatisticas do nosso DataFrame podemos visualizar que "
   ]
  },
  {
   "cell_type": "code",
   "execution_count": 181,
   "metadata": {},
   "outputs": [
    {
     "data": {
      "text/plain": [
       "\"# Visualizando a distribuição das colunas númericas \\nnumeric_cols = df.select_dtypes(include=['number']).columns\\n\\n# Definindo o número de fráficos por linha para organizar a visualização\\nn_cols = 3 # 3 Gráficos por linha\\nn_rows = (len(numeric_cols) + n_cols - 1) // n_cols # Calcula o número de linhas necessário\\n\\nplt.figure(figsize=(n_cols * 5, n_rows * 4)) # Ajusta o tamanho da figura\\n\\nfor i, col in enumerate(numeric_cols):\\n    plt.subplot(n_rows, n_cols, i + 1)\\n    sns.histplot(df[col], kde=True, bins=15)\\n    plt.title(f'Distribuição de {col}')\\n    plt.xlabel(col)\\n    plt.ylabel('Frequeência')\\n    plt.tight_layout()\\nplt.show()\""
      ]
     },
     "execution_count": 181,
     "metadata": {},
     "output_type": "execute_result"
    }
   ],
   "source": [
    "'''# Visualizando a distribuição das colunas númericas \n",
    "numeric_cols = df.select_dtypes(include=['number']).columns\n",
    "\n",
    "# Definindo o número de fráficos por linha para organizar a visualização\n",
    "n_cols = 3 # 3 Gráficos por linha\n",
    "n_rows = (len(numeric_cols) + n_cols - 1) // n_cols # Calcula o número de linhas necessário\n",
    "\n",
    "plt.figure(figsize=(n_cols * 5, n_rows * 4)) # Ajusta o tamanho da figura\n",
    "\n",
    "for i, col in enumerate(numeric_cols):\n",
    "    plt.subplot(n_rows, n_cols, i + 1)\n",
    "    sns.histplot(df[col], kde=True, bins=15)\n",
    "    plt.title(f'Distribuição de {col}')\n",
    "    plt.xlabel(col)\n",
    "    plt.ylabel('Frequeência')\n",
    "    plt.tight_layout()\n",
    "plt.show()'''"
   ]
  },
  {
   "cell_type": "markdown",
   "metadata": {},
   "source": []
  },
  {
   "cell_type": "code",
   "execution_count": 183,
   "metadata": {},
   "outputs": [
    {
     "data": {
      "text/plain": [
       "\"# Selecionando apenas as colunas categóricas \\ncategorical_cols = df.select_dtypes(include=['object']).columns\\n\\n# Itera sobre cada coluna categórica e craiar um gráfico de barras separdo\\nfor col in categorical_cols:\\n    plt.figure(figsize=(8, 6))\\n    sns.countplot(x=col, data=df, palette='viridis', order=df[col].value_counts().index, hue=col, legend=False)\\n    plt.title(f'Contagem de {col}')\\n    plt.xlabel(col)\\n    plt.ylabel('Contagem')\\n    plt.xticks(rotation=45, ha='right')\\n    plt.tight_layout()\\n    plt.show()\""
      ]
     },
     "execution_count": 183,
     "metadata": {},
     "output_type": "execute_result"
    }
   ],
   "source": [
    "'''# Selecionando apenas as colunas categóricas \n",
    "categorical_cols = df.select_dtypes(include=['object']).columns\n",
    "\n",
    "# Itera sobre cada coluna categórica e craiar um gráfico de barras separdo\n",
    "for col in categorical_cols:\n",
    "    plt.figure(figsize=(8, 6))\n",
    "    sns.countplot(x=col, data=df, palette='viridis', order=df[col].value_counts().index, hue=col, legend=False)\n",
    "    plt.title(f'Contagem de {col}')\n",
    "    plt.xlabel(col)\n",
    "    plt.ylabel('Contagem')\n",
    "    plt.xticks(rotation=45, ha='right')\n",
    "    plt.tight_layout()\n",
    "    plt.show()'''"
   ]
  },
  {
   "cell_type": "code",
   "execution_count": 184,
   "metadata": {},
   "outputs": [
    {
     "data": {
      "text/plain": [
       "\"# Analisando apenas as colunas numericas \\nnumeric_df = df[numeric_cols]\\n\\nplt.figure(figsize=(12, 10))\\nsns.heatmap(numeric_df.corr(),\\n            annot=True,\\n            cmap='coolwarm',\\n            fmt='.2f',\\n            linewidths=.5)\\nplt.title('Matriz de Correlação', fontsize=16)\\nplt.show()\""
      ]
     },
     "execution_count": 184,
     "metadata": {},
     "output_type": "execute_result"
    }
   ],
   "source": [
    "'''# Analisando apenas as colunas numericas \n",
    "numeric_df = df[numeric_cols]\n",
    "\n",
    "plt.figure(figsize=(12, 10))\n",
    "sns.heatmap(numeric_df.corr(),\n",
    "            annot=True,\n",
    "            cmap='coolwarm',\n",
    "            fmt='.2f',\n",
    "            linewidths=.5)\n",
    "plt.title('Matriz de Correlação', fontsize=16)\n",
    "plt.show()'''"
   ]
  },
  {
   "cell_type": "markdown",
   "metadata": {},
   "source": []
  },
  {
   "cell_type": "markdown",
   "metadata": {
    "id": "ivjv6PQc7uyr"
   },
   "source": [
    "# ETAPA 2:\n",
    "**Pré-processamento**\n",
    "\n",
    "**Análise Correlação:** Verifique a correlação entre as váriaveis e análise se há espaço para retirar váriaveis que não te parecem importantes.\n",
    "\n",
    "**Codificação de Variáveis Categóricas:** Transformar variáveis categóricas em um formato que os modelos de machine learning possam interpretar.\n",
    "\n",
    "\n",
    "**Separe a base em Y, X e Treino e teste:**: Faça a separação da base.\n",
    "\n",
    "**Realize a padronização dos dados**: Padronize os dados para garantir eficiência no modelo e eficácia.\n",
    "\n",
    "\n",
    "\n",
    "\n",
    "\n",
    "\n"
   ]
  },
  {
   "cell_type": "code",
   "execution_count": 187,
   "metadata": {
    "id": "6QxAhtdLFkhW"
   },
   "outputs": [],
   "source": [
    "# seu código aqui"
   ]
  },
  {
   "cell_type": "markdown",
   "metadata": {
    "id": "ylyBgXmo8dpr"
   },
   "source": [
    "# ETAPA 3:\n",
    "\n",
    "**Modelagem**\n",
    "\n",
    "Escolha ao menos 2 técnicas de machine learning e rode 2 modelos, afim de identificar qual tem o melhor resultado para essa base. Lembrando que estamos lidando com uma classificação binária."
   ]
  },
  {
   "cell_type": "code",
   "execution_count": 189,
   "metadata": {
    "id": "h14vtXpaFmlW"
   },
   "outputs": [],
   "source": [
    "# seu código aqui"
   ]
  },
  {
   "cell_type": "markdown",
   "metadata": {
    "id": "FYket6sw8ter"
   },
   "source": [
    "# ETAPA 4:\n",
    "\n",
    "**Avaliação**\n",
    "\n",
    "Avalie os resultados encontrados nos dois modelos e identifique qual te pareceu realizar melhor as previsões.\n",
    "\n",
    "Utilize além das métricas padrões a matriz de confusão."
   ]
  },
  {
   "cell_type": "code",
   "execution_count": 191,
   "metadata": {
    "id": "mG34B5ToFnEn"
   },
   "outputs": [],
   "source": [
    "# seu código aqui"
   ]
  }
 ],
 "metadata": {
  "colab": {
   "provenance": []
  },
  "kernelspec": {
   "display_name": "Python 3 (ipykernel)",
   "language": "python",
   "name": "python3"
  },
  "language_info": {
   "codemirror_mode": {
    "name": "ipython",
    "version": 3
   },
   "file_extension": ".py",
   "mimetype": "text/x-python",
   "name": "python",
   "nbconvert_exporter": "python",
   "pygments_lexer": "ipython3",
   "version": "3.12.4"
  }
 },
 "nbformat": 4,
 "nbformat_minor": 4
}
